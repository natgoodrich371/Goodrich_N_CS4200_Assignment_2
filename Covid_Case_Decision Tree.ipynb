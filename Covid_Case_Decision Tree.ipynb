{
  "nbformat": 4,
  "nbformat_minor": 5,
  "metadata": {
    "kernelspec": {
      "display_name": "Python 3",
      "language": "python",
      "name": "python3"
    },
    "language_info": {
      "codemirror_mode": {
        "name": "ipython",
        "version": 3
      },
      "file_extension": ".py",
      "mimetype": "text/x-python",
      "name": "python",
      "nbconvert_exporter": "python",
      "pygments_lexer": "ipython3",
      "version": "3.7.10"
    },
    "papermill": {
      "default_parameters": {},
      "duration": 20.980931,
      "end_time": "2021-11-30T23:27:42.003117",
      "environment_variables": {},
      "exception": null,
      "input_path": "__notebook__.ipynb",
      "output_path": "__notebook__.ipynb",
      "parameters": {},
      "start_time": "2021-11-30T23:27:21.022186",
      "version": "2.3.3"
    },
    "colab": {
      "name": "decisiontreeassignment.ipynb",
      "provenance": [],
      "include_colab_link": true
    }
  },
  "cells": [
    {
      "cell_type": "markdown",
      "metadata": {
        "id": "view-in-github",
        "colab_type": "text"
      },
      "source": [
        "<a href=\"https://colab.research.google.com/github/natgoodrich371/Goodrich_N_CS4200_Assignment_2/blob/main/Covid_Case_Decision%20Tree.ipynb\" target=\"_parent\"><img src=\"https://colab.research.google.com/assets/colab-badge.svg\" alt=\"Open In Colab\"/></a>"
      ]
    },
    {
      "cell_type": "code",
      "metadata": {
        "_cell_guid": "b1076dfc-b9ad-4769-8c92-a6c4dae69d19",
        "_uuid": "8f2839f25d086af736a60e9eeb907d3b93b6e0e5",
        "execution": {
          "iopub.execute_input": "2021-11-30T23:27:30.277496Z",
          "iopub.status.busy": "2021-11-30T23:27:30.276126Z",
          "iopub.status.idle": "2021-11-30T23:27:31.218298Z",
          "shell.execute_reply": "2021-11-30T23:27:31.217572Z",
          "shell.execute_reply.started": "2021-11-30T22:22:43.39046Z"
        },
        "papermill": {
          "duration": 0.981614,
          "end_time": "2021-11-30T23:27:31.218483",
          "exception": false,
          "start_time": "2021-11-30T23:27:30.236869",
          "status": "completed"
        },
        "tags": [],
        "id": "43e3b4c7",
        "outputId": "1ba36783-d961-421a-c48a-bf8a29d87b84"
      },
      "source": [
        "# This Python 3 environment comes with many helpful analytics libraries installed\n",
        "# It is defined by the kaggle/python Docker image: https://github.com/kaggle/docker-python\n",
        "# For example, here's several helpful packages to load\n",
        "\n",
        "import numpy as np # linear algebra\n",
        "import pandas as pd # data processing, CSV file I/O (e.g. pd.read_csv)\n",
        "import matplotlib.pyplot as plt # data visualization\n",
        "import seaborn as sns # statistical data visualization\n",
        "%matplotlib inline\n",
        "\n",
        "# Input data files are available in the read-only \"../input/\" directory\n",
        "# For example, running this (by clicking run or pressing Shift+Enter) will list all files under the input directory\n",
        "\n",
        "import os\n",
        "for dirname, _, filenames in os.walk('/kaggle/input'):\n",
        "    for filename in filenames:\n",
        "        print(os.path.join(dirname, filename))\n",
        "\n",
        "# You can write up to 20GB to the current directory (/kaggle/working/) that gets preserved as output when you create a version using \"Save & Run All\" \n",
        "# You can also write temporary files to /kaggle/temp/, but they won't be saved outside of the current session"
      ],
      "id": "43e3b4c7",
      "execution_count": null,
      "outputs": [
        {
          "name": "stdout",
          "output_type": "stream",
          "text": [
            "/kaggle/input/us-covid-case-kaggle3/us_covid_case_kaggle3.csv\n",
            "/kaggle/input/us-covid-case/us_covid_case.csv\n",
            "/kaggle/input/us-covid-case-kaggle2/us_covid_case_kaggle.csv\n",
            "/kaggle/input/us-covid-case-kaggle/us_covid_case_kaggle.csv\n"
          ]
        }
      ]
    },
    {
      "cell_type": "code",
      "metadata": {
        "execution": {
          "iopub.execute_input": "2021-11-30T23:27:31.288003Z",
          "iopub.status.busy": "2021-11-30T23:27:31.287237Z",
          "iopub.status.idle": "2021-11-30T23:27:31.290900Z",
          "shell.execute_reply": "2021-11-30T23:27:31.291553Z",
          "shell.execute_reply.started": "2021-11-30T22:22:43.409949Z"
        },
        "papermill": {
          "duration": 0.040543,
          "end_time": "2021-11-30T23:27:31.291754",
          "exception": false,
          "start_time": "2021-11-30T23:27:31.251211",
          "status": "completed"
        },
        "tags": [],
        "id": "e8d52edc"
      },
      "source": [
        "import warnings\n",
        "\n",
        "warnings.filterwarnings('ignore')"
      ],
      "id": "e8d52edc",
      "execution_count": null,
      "outputs": []
    },
    {
      "cell_type": "code",
      "metadata": {
        "execution": {
          "iopub.execute_input": "2021-11-30T23:27:31.360134Z",
          "iopub.status.busy": "2021-11-30T23:27:31.359458Z",
          "iopub.status.idle": "2021-11-30T23:27:31.374735Z",
          "shell.execute_reply": "2021-11-30T23:27:31.374103Z",
          "shell.execute_reply.started": "2021-11-30T22:22:43.416468Z"
        },
        "papermill": {
          "duration": 0.05034,
          "end_time": "2021-11-30T23:27:31.374897",
          "exception": false,
          "start_time": "2021-11-30T23:27:31.324557",
          "status": "completed"
        },
        "tags": [],
        "id": "6d72ee54"
      },
      "source": [
        "data = '../input/us-covid-case-kaggle3/us_covid_case_kaggle3.csv'\n",
        "\n",
        "df = pd.read_csv(data, header=None)"
      ],
      "id": "6d72ee54",
      "execution_count": null,
      "outputs": []
    },
    {
      "cell_type": "code",
      "metadata": {
        "execution": {
          "iopub.execute_input": "2021-11-30T23:27:31.442243Z",
          "iopub.status.busy": "2021-11-30T23:27:31.441441Z",
          "iopub.status.idle": "2021-11-30T23:27:31.449920Z",
          "shell.execute_reply": "2021-11-30T23:27:31.450431Z",
          "shell.execute_reply.started": "2021-11-30T22:22:43.433638Z"
        },
        "papermill": {
          "duration": 0.043317,
          "end_time": "2021-11-30T23:27:31.450610",
          "exception": false,
          "start_time": "2021-11-30T23:27:31.407293",
          "status": "completed"
        },
        "tags": [],
        "id": "7a5bacdf",
        "outputId": "ef102be1-e1b1-4897-ad20-7c40050063ea"
      },
      "source": [
        "df.shape"
      ],
      "id": "7a5bacdf",
      "execution_count": null,
      "outputs": [
        {
          "data": {
            "text/plain": [
              "(332, 6)"
            ]
          },
          "execution_count": 4,
          "metadata": {},
          "output_type": "execute_result"
        }
      ]
    },
    {
      "cell_type": "code",
      "metadata": {
        "execution": {
          "iopub.execute_input": "2021-11-30T23:27:31.548099Z",
          "iopub.status.busy": "2021-11-30T23:27:31.544996Z",
          "iopub.status.idle": "2021-11-30T23:27:31.575798Z",
          "shell.execute_reply": "2021-11-30T23:27:31.575091Z",
          "shell.execute_reply.started": "2021-11-30T22:22:43.443191Z"
        },
        "papermill": {
          "duration": 0.078688,
          "end_time": "2021-11-30T23:27:31.576004",
          "exception": false,
          "start_time": "2021-11-30T23:27:31.497316",
          "status": "completed"
        },
        "tags": [],
        "id": "63347c73",
        "outputId": "fa80f303-1f55-4a1b-e617-a521792d6010"
      },
      "source": [
        "df.head()"
      ],
      "id": "63347c73",
      "execution_count": null,
      "outputs": [
        {
          "data": {
            "text/html": [
              "<div>\n",
              "<style scoped>\n",
              "    .dataframe tbody tr th:only-of-type {\n",
              "        vertical-align: middle;\n",
              "    }\n",
              "\n",
              "    .dataframe tbody tr th {\n",
              "        vertical-align: top;\n",
              "    }\n",
              "\n",
              "    .dataframe thead th {\n",
              "        text-align: right;\n",
              "    }\n",
              "</style>\n",
              "<table border=\"1\" class=\"dataframe\">\n",
              "  <thead>\n",
              "    <tr style=\"text-align: right;\">\n",
              "      <th></th>\n",
              "      <th>0</th>\n",
              "      <th>1</th>\n",
              "      <th>2</th>\n",
              "      <th>3</th>\n",
              "      <th>4</th>\n",
              "      <th>5</th>\n",
              "    </tr>\n",
              "  </thead>\n",
              "  <tbody>\n",
              "    <tr>\n",
              "      <th>0</th>\n",
              "      <td>5</td>\n",
              "      <td>1.0</td>\n",
              "      <td>3</td>\n",
              "      <td>0.12</td>\n",
              "      <td>8.3</td>\n",
              "      <td>1</td>\n",
              "    </tr>\n",
              "    <tr>\n",
              "      <th>1</th>\n",
              "      <td>5</td>\n",
              "      <td>1.0</td>\n",
              "      <td>4</td>\n",
              "      <td>0.12</td>\n",
              "      <td>8.4</td>\n",
              "      <td>1</td>\n",
              "    </tr>\n",
              "    <tr>\n",
              "      <th>2</th>\n",
              "      <td>5</td>\n",
              "      <td>1.0</td>\n",
              "      <td>5</td>\n",
              "      <td>0.12</td>\n",
              "      <td>8.2</td>\n",
              "      <td>1</td>\n",
              "    </tr>\n",
              "    <tr>\n",
              "      <th>3</th>\n",
              "      <td>5</td>\n",
              "      <td>1.0</td>\n",
              "      <td>5</td>\n",
              "      <td>0.12</td>\n",
              "      <td>8.1</td>\n",
              "      <td>1</td>\n",
              "    </tr>\n",
              "    <tr>\n",
              "      <th>4</th>\n",
              "      <td>5</td>\n",
              "      <td>1.0</td>\n",
              "      <td>5</td>\n",
              "      <td>0.12</td>\n",
              "      <td>8.1</td>\n",
              "      <td>1</td>\n",
              "    </tr>\n",
              "  </tbody>\n",
              "</table>\n",
              "</div>"
            ],
            "text/plain": [
              "   0    1  2     3    4  5\n",
              "0  5  1.0  3  0.12  8.3  1\n",
              "1  5  1.0  4  0.12  8.4  1\n",
              "2  5  1.0  5  0.12  8.2  1\n",
              "3  5  1.0  5  0.12  8.1  1\n",
              "4  5  1.0  5  0.12  8.1  1"
            ]
          },
          "execution_count": 5,
          "metadata": {},
          "output_type": "execute_result"
        }
      ]
    },
    {
      "cell_type": "code",
      "metadata": {
        "execution": {
          "iopub.execute_input": "2021-11-30T23:27:31.647884Z",
          "iopub.status.busy": "2021-11-30T23:27:31.646750Z",
          "iopub.status.idle": "2021-11-30T23:27:31.654392Z",
          "shell.execute_reply": "2021-11-30T23:27:31.655055Z",
          "shell.execute_reply.started": "2021-11-30T22:22:43.460169Z"
        },
        "papermill": {
          "duration": 0.044873,
          "end_time": "2021-11-30T23:27:31.655248",
          "exception": false,
          "start_time": "2021-11-30T23:27:31.610375",
          "status": "completed"
        },
        "tags": [],
        "id": "8e57b6b8",
        "outputId": "8842507b-f2bc-4b08-a899-3437b2978fb1"
      },
      "source": [
        "col_names = ['new_cases', 'rep_rate', 'new_tests', 'pos_rate', 'tests_per_case', 'new_vac']\n",
        "\n",
        "df.columns = col_names\n",
        "\n",
        "col_names"
      ],
      "id": "8e57b6b8",
      "execution_count": null,
      "outputs": [
        {
          "data": {
            "text/plain": [
              "['new_cases', 'rep_rate', 'new_tests', 'pos_rate', 'tests_per_case', 'new_vac']"
            ]
          },
          "execution_count": 6,
          "metadata": {},
          "output_type": "execute_result"
        }
      ]
    },
    {
      "cell_type": "code",
      "metadata": {
        "execution": {
          "iopub.execute_input": "2021-11-30T23:27:31.737941Z",
          "iopub.status.busy": "2021-11-30T23:27:31.737190Z",
          "iopub.status.idle": "2021-11-30T23:27:31.740927Z",
          "shell.execute_reply": "2021-11-30T23:27:31.741498Z",
          "shell.execute_reply.started": "2021-11-30T22:22:43.473192Z"
        },
        "papermill": {
          "duration": 0.052003,
          "end_time": "2021-11-30T23:27:31.741709",
          "exception": false,
          "start_time": "2021-11-30T23:27:31.689706",
          "status": "completed"
        },
        "tags": [],
        "id": "66b4ac6e",
        "outputId": "9c18e302-3bec-4ac9-d9e2-9110a8d6b8b0"
      },
      "source": [
        "df.head()"
      ],
      "id": "66b4ac6e",
      "execution_count": null,
      "outputs": [
        {
          "data": {
            "text/html": [
              "<div>\n",
              "<style scoped>\n",
              "    .dataframe tbody tr th:only-of-type {\n",
              "        vertical-align: middle;\n",
              "    }\n",
              "\n",
              "    .dataframe tbody tr th {\n",
              "        vertical-align: top;\n",
              "    }\n",
              "\n",
              "    .dataframe thead th {\n",
              "        text-align: right;\n",
              "    }\n",
              "</style>\n",
              "<table border=\"1\" class=\"dataframe\">\n",
              "  <thead>\n",
              "    <tr style=\"text-align: right;\">\n",
              "      <th></th>\n",
              "      <th>new_cases</th>\n",
              "      <th>rep_rate</th>\n",
              "      <th>new_tests</th>\n",
              "      <th>pos_rate</th>\n",
              "      <th>tests_per_case</th>\n",
              "      <th>new_vac</th>\n",
              "    </tr>\n",
              "  </thead>\n",
              "  <tbody>\n",
              "    <tr>\n",
              "      <th>0</th>\n",
              "      <td>5</td>\n",
              "      <td>1.0</td>\n",
              "      <td>3</td>\n",
              "      <td>0.12</td>\n",
              "      <td>8.3</td>\n",
              "      <td>1</td>\n",
              "    </tr>\n",
              "    <tr>\n",
              "      <th>1</th>\n",
              "      <td>5</td>\n",
              "      <td>1.0</td>\n",
              "      <td>4</td>\n",
              "      <td>0.12</td>\n",
              "      <td>8.4</td>\n",
              "      <td>1</td>\n",
              "    </tr>\n",
              "    <tr>\n",
              "      <th>2</th>\n",
              "      <td>5</td>\n",
              "      <td>1.0</td>\n",
              "      <td>5</td>\n",
              "      <td>0.12</td>\n",
              "      <td>8.2</td>\n",
              "      <td>1</td>\n",
              "    </tr>\n",
              "    <tr>\n",
              "      <th>3</th>\n",
              "      <td>5</td>\n",
              "      <td>1.0</td>\n",
              "      <td>5</td>\n",
              "      <td>0.12</td>\n",
              "      <td>8.1</td>\n",
              "      <td>1</td>\n",
              "    </tr>\n",
              "    <tr>\n",
              "      <th>4</th>\n",
              "      <td>5</td>\n",
              "      <td>1.0</td>\n",
              "      <td>5</td>\n",
              "      <td>0.12</td>\n",
              "      <td>8.1</td>\n",
              "      <td>1</td>\n",
              "    </tr>\n",
              "  </tbody>\n",
              "</table>\n",
              "</div>"
            ],
            "text/plain": [
              "   new_cases  rep_rate  new_tests  pos_rate  tests_per_case  new_vac\n",
              "0          5       1.0          3      0.12             8.3        1\n",
              "1          5       1.0          4      0.12             8.4        1\n",
              "2          5       1.0          5      0.12             8.2        1\n",
              "3          5       1.0          5      0.12             8.1        1\n",
              "4          5       1.0          5      0.12             8.1        1"
            ]
          },
          "execution_count": 7,
          "metadata": {},
          "output_type": "execute_result"
        }
      ]
    },
    {
      "cell_type": "code",
      "metadata": {
        "execution": {
          "iopub.execute_input": "2021-11-30T23:27:31.813760Z",
          "iopub.status.busy": "2021-11-30T23:27:31.813038Z",
          "iopub.status.idle": "2021-11-30T23:27:31.825131Z",
          "shell.execute_reply": "2021-11-30T23:27:31.824539Z",
          "shell.execute_reply.started": "2021-11-30T22:22:43.491198Z"
        },
        "papermill": {
          "duration": 0.049713,
          "end_time": "2021-11-30T23:27:31.825303",
          "exception": false,
          "start_time": "2021-11-30T23:27:31.775590",
          "status": "completed"
        },
        "tags": [],
        "id": "6648967f"
      },
      "source": [
        "df['new_cases'] = df['new_cases'].astype(str)\n",
        "df['rep_rate'] = df['rep_rate'].astype(float)\n",
        "df['new_tests'] = df['new_tests'].astype(int)\n",
        "df['pos_rate'] = df['pos_rate'].astype(float)\n",
        "df['tests_per_case'] = df['tests_per_case'].astype(float)\n",
        "df['new_vac'] = df['new_vac'].astype(int)"
      ],
      "id": "6648967f",
      "execution_count": null,
      "outputs": []
    },
    {
      "cell_type": "code",
      "metadata": {
        "execution": {
          "iopub.execute_input": "2021-11-30T23:27:31.912062Z",
          "iopub.status.busy": "2021-11-30T23:27:31.910269Z",
          "iopub.status.idle": "2021-11-30T23:27:31.915933Z",
          "shell.execute_reply": "2021-11-30T23:27:31.915194Z",
          "shell.execute_reply.started": "2021-11-30T22:22:43.500763Z"
        },
        "papermill": {
          "duration": 0.056862,
          "end_time": "2021-11-30T23:27:31.916093",
          "exception": false,
          "start_time": "2021-11-30T23:27:31.859231",
          "status": "completed"
        },
        "tags": [],
        "id": "999f2f50",
        "outputId": "24099c08-4728-4c82-fe36-96e1baf21048"
      },
      "source": [
        "df.info()"
      ],
      "id": "999f2f50",
      "execution_count": null,
      "outputs": [
        {
          "name": "stdout",
          "output_type": "stream",
          "text": [
            "<class 'pandas.core.frame.DataFrame'>\n",
            "RangeIndex: 332 entries, 0 to 331\n",
            "Data columns (total 6 columns):\n",
            " #   Column          Non-Null Count  Dtype  \n",
            "---  ------          --------------  -----  \n",
            " 0   new_cases       332 non-null    object \n",
            " 1   rep_rate        332 non-null    float64\n",
            " 2   new_tests       332 non-null    int64  \n",
            " 3   pos_rate        332 non-null    float64\n",
            " 4   tests_per_case  332 non-null    float64\n",
            " 5   new_vac         332 non-null    int64  \n",
            "dtypes: float64(3), int64(2), object(1)\n",
            "memory usage: 15.7+ KB\n"
          ]
        }
      ]
    },
    {
      "cell_type": "code",
      "metadata": {
        "execution": {
          "iopub.execute_input": "2021-11-30T23:27:31.994592Z",
          "iopub.status.busy": "2021-11-30T23:27:31.993891Z",
          "iopub.status.idle": "2021-11-30T23:27:32.007429Z",
          "shell.execute_reply": "2021-11-30T23:27:32.006745Z",
          "shell.execute_reply.started": "2021-11-30T22:22:43.525501Z"
        },
        "papermill": {
          "duration": 0.057115,
          "end_time": "2021-11-30T23:27:32.007583",
          "exception": false,
          "start_time": "2021-11-30T23:27:31.950468",
          "status": "completed"
        },
        "tags": [],
        "id": "7b987b32",
        "outputId": "7b87dbe8-2d15-4e55-c49a-db0d351c4c26"
      },
      "source": [
        "col_names = ['new_cases', 'rep_rate', 'new_tests', 'pos_rate', 'tests_per_case', 'new_vac']\n",
        "\n",
        "for col in col_names:\n",
        "    \n",
        "    print(df[col].value_counts())   "
      ],
      "id": "7b987b32",
      "execution_count": null,
      "outputs": [
        {
          "name": "stdout",
          "output_type": "stream",
          "text": [
            "1    116\n",
            "2    101\n",
            "5     40\n",
            "3     40\n",
            "4     35\n",
            "Name: new_cases, dtype: int64\n",
            "0.8    96\n",
            "0.9    69\n",
            "1.0    67\n",
            "0.7    35\n",
            "1.1    22\n",
            "1.4    16\n",
            "1.5    12\n",
            "1.2     8\n",
            "1.3     7\n",
            "Name: rep_rate, dtype: int64\n",
            "2    100\n",
            "3     98\n",
            "4     95\n",
            "5     21\n",
            "1     18\n",
            "Name: new_tests, dtype: int64\n",
            "0.05    72\n",
            "0.04    42\n",
            "0.02    36\n",
            "0.10    32\n",
            "0.09    24\n",
            "0.07    22\n",
            "0.06    21\n",
            "0.03    20\n",
            "0.12    16\n",
            "0.08    14\n",
            "0.01    10\n",
            "0.13     9\n",
            "0.11     8\n",
            "0.14     6\n",
            "Name: pos_rate, dtype: int64\n",
            "18.8    7\n",
            "9.6     6\n",
            "8.2     6\n",
            "18.4    6\n",
            "18.6    6\n",
            "       ..\n",
            "25.3    1\n",
            "24.9    1\n",
            "24.3    1\n",
            "23.8    1\n",
            "17.7    1\n",
            "Name: tests_per_case, Length: 189, dtype: int64\n",
            "2    122\n",
            "1     54\n",
            "3     54\n",
            "4     28\n",
            "5     28\n",
            "7     19\n",
            "8     14\n",
            "6     13\n",
            "Name: new_vac, dtype: int64\n"
          ]
        }
      ]
    },
    {
      "cell_type": "code",
      "metadata": {
        "execution": {
          "iopub.execute_input": "2021-11-30T23:27:32.084085Z",
          "iopub.status.busy": "2021-11-30T23:27:32.083385Z",
          "iopub.status.idle": "2021-11-30T23:27:32.087641Z",
          "shell.execute_reply": "2021-11-30T23:27:32.086953Z",
          "shell.execute_reply.started": "2021-11-30T22:22:43.544693Z"
        },
        "papermill": {
          "duration": 0.045562,
          "end_time": "2021-11-30T23:27:32.087826",
          "exception": false,
          "start_time": "2021-11-30T23:27:32.042264",
          "status": "completed"
        },
        "tags": [],
        "id": "f0cf24b9",
        "outputId": "040c48e8-a23f-49ca-8ff0-27d1c33849db"
      },
      "source": [
        "df['new_cases'].value_counts()"
      ],
      "id": "f0cf24b9",
      "execution_count": null,
      "outputs": [
        {
          "data": {
            "text/plain": [
              "1    116\n",
              "2    101\n",
              "5     40\n",
              "3     40\n",
              "4     35\n",
              "Name: new_cases, dtype: int64"
            ]
          },
          "execution_count": 11,
          "metadata": {},
          "output_type": "execute_result"
        }
      ]
    },
    {
      "cell_type": "code",
      "metadata": {
        "execution": {
          "iopub.execute_input": "2021-11-30T23:27:32.170574Z",
          "iopub.status.busy": "2021-11-30T23:27:32.169912Z",
          "iopub.status.idle": "2021-11-30T23:27:32.173381Z",
          "shell.execute_reply": "2021-11-30T23:27:32.172697Z",
          "shell.execute_reply.started": "2021-11-30T22:22:43.554232Z"
        },
        "papermill": {
          "duration": 0.049973,
          "end_time": "2021-11-30T23:27:32.173532",
          "exception": false,
          "start_time": "2021-11-30T23:27:32.123559",
          "status": "completed"
        },
        "tags": [],
        "id": "f89aaa36",
        "outputId": "891a8e1b-20d1-4415-c41b-1facf0616f49"
      },
      "source": [
        "df.isnull().sum()"
      ],
      "id": "f89aaa36",
      "execution_count": null,
      "outputs": [
        {
          "data": {
            "text/plain": [
              "new_cases         0\n",
              "rep_rate          0\n",
              "new_tests         0\n",
              "pos_rate          0\n",
              "tests_per_case    0\n",
              "new_vac           0\n",
              "dtype: int64"
            ]
          },
          "execution_count": 12,
          "metadata": {},
          "output_type": "execute_result"
        }
      ]
    },
    {
      "cell_type": "code",
      "metadata": {
        "execution": {
          "iopub.execute_input": "2021-11-30T23:27:32.252046Z",
          "iopub.status.busy": "2021-11-30T23:27:32.251314Z",
          "iopub.status.idle": "2021-11-30T23:27:32.254742Z",
          "shell.execute_reply": "2021-11-30T23:27:32.253993Z",
          "shell.execute_reply.started": "2021-11-30T22:22:43.568825Z"
        },
        "papermill": {
          "duration": 0.045921,
          "end_time": "2021-11-30T23:27:32.254934",
          "exception": false,
          "start_time": "2021-11-30T23:27:32.209013",
          "status": "completed"
        },
        "tags": [],
        "id": "0408b819"
      },
      "source": [
        "X = df.drop(['new_cases'], axis=1)\n",
        "y = df['new_cases']"
      ],
      "id": "0408b819",
      "execution_count": null,
      "outputs": []
    },
    {
      "cell_type": "code",
      "metadata": {
        "execution": {
          "iopub.execute_input": "2021-11-30T23:27:32.329567Z",
          "iopub.status.busy": "2021-11-30T23:27:32.328873Z",
          "iopub.status.idle": "2021-11-30T23:27:32.502900Z",
          "shell.execute_reply": "2021-11-30T23:27:32.502230Z",
          "shell.execute_reply.started": "2021-11-30T22:22:43.58209Z"
        },
        "papermill": {
          "duration": 0.212631,
          "end_time": "2021-11-30T23:27:32.503064",
          "exception": false,
          "start_time": "2021-11-30T23:27:32.290433",
          "status": "completed"
        },
        "tags": [],
        "id": "02363f7d"
      },
      "source": [
        "from sklearn.model_selection import train_test_split\n",
        "\n",
        "X_train, X_test, y_train, y_test = train_test_split(X, y, test_size = 0.33, random_state = 42)"
      ],
      "id": "02363f7d",
      "execution_count": null,
      "outputs": []
    },
    {
      "cell_type": "code",
      "metadata": {
        "execution": {
          "iopub.execute_input": "2021-11-30T23:27:32.582236Z",
          "iopub.status.busy": "2021-11-30T23:27:32.581515Z",
          "iopub.status.idle": "2021-11-30T23:27:32.584321Z",
          "shell.execute_reply": "2021-11-30T23:27:32.584929Z",
          "shell.execute_reply.started": "2021-11-30T22:22:43.590998Z"
        },
        "papermill": {
          "duration": 0.044881,
          "end_time": "2021-11-30T23:27:32.585108",
          "exception": false,
          "start_time": "2021-11-30T23:27:32.540227",
          "status": "completed"
        },
        "tags": [],
        "id": "fe066c54",
        "outputId": "47f1be84-d4f8-4b22-cec9-58b12b03f2b2"
      },
      "source": [
        "X_train.shape, X_test.shape"
      ],
      "id": "fe066c54",
      "execution_count": null,
      "outputs": [
        {
          "data": {
            "text/plain": [
              "((222, 5), (110, 5))"
            ]
          },
          "execution_count": 15,
          "metadata": {},
          "output_type": "execute_result"
        }
      ]
    },
    {
      "cell_type": "code",
      "metadata": {
        "execution": {
          "iopub.execute_input": "2021-11-30T23:27:32.661916Z",
          "iopub.status.busy": "2021-11-30T23:27:32.661202Z",
          "iopub.status.idle": "2021-11-30T23:27:32.667783Z",
          "shell.execute_reply": "2021-11-30T23:27:32.668346Z",
          "shell.execute_reply.started": "2021-11-30T22:22:43.601876Z"
        },
        "papermill": {
          "duration": 0.04772,
          "end_time": "2021-11-30T23:27:32.668524",
          "exception": false,
          "start_time": "2021-11-30T23:27:32.620804",
          "status": "completed"
        },
        "tags": [],
        "id": "a842097f",
        "outputId": "15133dc0-da78-478c-ef9c-03bb32360913"
      },
      "source": [
        "X_train.dtypes"
      ],
      "id": "a842097f",
      "execution_count": null,
      "outputs": [
        {
          "data": {
            "text/plain": [
              "rep_rate          float64\n",
              "new_tests           int64\n",
              "pos_rate          float64\n",
              "tests_per_case    float64\n",
              "new_vac             int64\n",
              "dtype: object"
            ]
          },
          "execution_count": 16,
          "metadata": {},
          "output_type": "execute_result"
        }
      ]
    },
    {
      "cell_type": "code",
      "metadata": {
        "execution": {
          "iopub.execute_input": "2021-11-30T23:27:32.744579Z",
          "iopub.status.busy": "2021-11-30T23:27:32.743920Z",
          "iopub.status.idle": "2021-11-30T23:27:32.755652Z",
          "shell.execute_reply": "2021-11-30T23:27:32.756218Z",
          "shell.execute_reply.started": "2021-11-30T22:22:43.613281Z"
        },
        "papermill": {
          "duration": 0.051624,
          "end_time": "2021-11-30T23:27:32.756403",
          "exception": false,
          "start_time": "2021-11-30T23:27:32.704779",
          "status": "completed"
        },
        "tags": [],
        "id": "b52fcb05",
        "outputId": "f9a0e75f-c7b7-4936-9850-558d14da33f8"
      },
      "source": [
        "X_train.head()"
      ],
      "id": "b52fcb05",
      "execution_count": null,
      "outputs": [
        {
          "data": {
            "text/html": [
              "<div>\n",
              "<style scoped>\n",
              "    .dataframe tbody tr th:only-of-type {\n",
              "        vertical-align: middle;\n",
              "    }\n",
              "\n",
              "    .dataframe tbody tr th {\n",
              "        vertical-align: top;\n",
              "    }\n",
              "\n",
              "    .dataframe thead th {\n",
              "        text-align: right;\n",
              "    }\n",
              "</style>\n",
              "<table border=\"1\" class=\"dataframe\">\n",
              "  <thead>\n",
              "    <tr style=\"text-align: right;\">\n",
              "      <th></th>\n",
              "      <th>rep_rate</th>\n",
              "      <th>new_tests</th>\n",
              "      <th>pos_rate</th>\n",
              "      <th>tests_per_case</th>\n",
              "      <th>new_vac</th>\n",
              "    </tr>\n",
              "  </thead>\n",
              "  <tbody>\n",
              "    <tr>\n",
              "      <th>39</th>\n",
              "      <td>0.8</td>\n",
              "      <td>4</td>\n",
              "      <td>0.10</td>\n",
              "      <td>9.4</td>\n",
              "      <td>4</td>\n",
              "    </tr>\n",
              "    <tr>\n",
              "      <th>250</th>\n",
              "      <td>1.1</td>\n",
              "      <td>3</td>\n",
              "      <td>0.10</td>\n",
              "      <td>9.3</td>\n",
              "      <td>2</td>\n",
              "    </tr>\n",
              "    <tr>\n",
              "      <th>104</th>\n",
              "      <td>1.0</td>\n",
              "      <td>2</td>\n",
              "      <td>0.05</td>\n",
              "      <td>19.4</td>\n",
              "      <td>3</td>\n",
              "    </tr>\n",
              "    <tr>\n",
              "      <th>155</th>\n",
              "      <td>0.7</td>\n",
              "      <td>3</td>\n",
              "      <td>0.03</td>\n",
              "      <td>31.4</td>\n",
              "      <td>5</td>\n",
              "    </tr>\n",
              "    <tr>\n",
              "      <th>314</th>\n",
              "      <td>0.9</td>\n",
              "      <td>2</td>\n",
              "      <td>0.05</td>\n",
              "      <td>19.9</td>\n",
              "      <td>1</td>\n",
              "    </tr>\n",
              "  </tbody>\n",
              "</table>\n",
              "</div>"
            ],
            "text/plain": [
              "     rep_rate  new_tests  pos_rate  tests_per_case  new_vac\n",
              "39        0.8          4      0.10             9.4        4\n",
              "250       1.1          3      0.10             9.3        2\n",
              "104       1.0          2      0.05            19.4        3\n",
              "155       0.7          3      0.03            31.4        5\n",
              "314       0.9          2      0.05            19.9        1"
            ]
          },
          "execution_count": 17,
          "metadata": {},
          "output_type": "execute_result"
        }
      ]
    },
    {
      "cell_type": "code",
      "metadata": {
        "execution": {
          "iopub.execute_input": "2021-11-30T23:27:32.835603Z",
          "iopub.status.busy": "2021-11-30T23:27:32.834684Z",
          "iopub.status.idle": "2021-11-30T23:27:33.168887Z",
          "shell.execute_reply": "2021-11-30T23:27:33.169468Z",
          "shell.execute_reply.started": "2021-11-30T22:22:43.62649Z"
        },
        "papermill": {
          "duration": 0.375581,
          "end_time": "2021-11-30T23:27:33.169691",
          "exception": false,
          "start_time": "2021-11-30T23:27:32.794110",
          "status": "completed"
        },
        "tags": [],
        "id": "39d3ec4a"
      },
      "source": [
        "# import category encoders\n",
        "\n",
        "import category_encoders as ce"
      ],
      "id": "39d3ec4a",
      "execution_count": null,
      "outputs": []
    },
    {
      "cell_type": "code",
      "metadata": {
        "execution": {
          "iopub.execute_input": "2021-11-30T23:27:33.249125Z",
          "iopub.status.busy": "2021-11-30T23:27:33.248359Z",
          "iopub.status.idle": "2021-11-30T23:27:33.278891Z",
          "shell.execute_reply": "2021-11-30T23:27:33.279462Z",
          "shell.execute_reply.started": "2021-11-30T22:22:43.637012Z"
        },
        "papermill": {
          "duration": 0.071684,
          "end_time": "2021-11-30T23:27:33.279667",
          "exception": false,
          "start_time": "2021-11-30T23:27:33.207983",
          "status": "completed"
        },
        "tags": [],
        "id": "b7903f10"
      },
      "source": [
        "encoder = ce.OrdinalEncoder(cols=['rep_rate', 'new_tests', 'pos_rate', 'tests_per_case', 'new_vac'])\n",
        "\n",
        "X_train = encoder.fit_transform(X_train)\n",
        "\n",
        "X_test = encoder.transform(X_test)"
      ],
      "id": "b7903f10",
      "execution_count": null,
      "outputs": []
    },
    {
      "cell_type": "code",
      "metadata": {
        "execution": {
          "iopub.execute_input": "2021-11-30T23:27:33.361047Z",
          "iopub.status.busy": "2021-11-30T23:27:33.360316Z",
          "iopub.status.idle": "2021-11-30T23:27:33.369502Z",
          "shell.execute_reply": "2021-11-30T23:27:33.370144Z",
          "shell.execute_reply.started": "2021-11-30T22:22:43.670224Z"
        },
        "papermill": {
          "duration": 0.051588,
          "end_time": "2021-11-30T23:27:33.370338",
          "exception": false,
          "start_time": "2021-11-30T23:27:33.318750",
          "status": "completed"
        },
        "tags": [],
        "id": "e37dfd7c",
        "outputId": "8003a554-39a8-442b-d2e5-1a815b3e68f8"
      },
      "source": [
        "X_train.head()"
      ],
      "id": "e37dfd7c",
      "execution_count": null,
      "outputs": [
        {
          "data": {
            "text/html": [
              "<div>\n",
              "<style scoped>\n",
              "    .dataframe tbody tr th:only-of-type {\n",
              "        vertical-align: middle;\n",
              "    }\n",
              "\n",
              "    .dataframe tbody tr th {\n",
              "        vertical-align: top;\n",
              "    }\n",
              "\n",
              "    .dataframe thead th {\n",
              "        text-align: right;\n",
              "    }\n",
              "</style>\n",
              "<table border=\"1\" class=\"dataframe\">\n",
              "  <thead>\n",
              "    <tr style=\"text-align: right;\">\n",
              "      <th></th>\n",
              "      <th>rep_rate</th>\n",
              "      <th>new_tests</th>\n",
              "      <th>pos_rate</th>\n",
              "      <th>tests_per_case</th>\n",
              "      <th>new_vac</th>\n",
              "    </tr>\n",
              "  </thead>\n",
              "  <tbody>\n",
              "    <tr>\n",
              "      <th>39</th>\n",
              "      <td>1</td>\n",
              "      <td>1</td>\n",
              "      <td>1</td>\n",
              "      <td>1</td>\n",
              "      <td>1</td>\n",
              "    </tr>\n",
              "    <tr>\n",
              "      <th>250</th>\n",
              "      <td>2</td>\n",
              "      <td>2</td>\n",
              "      <td>1</td>\n",
              "      <td>2</td>\n",
              "      <td>2</td>\n",
              "    </tr>\n",
              "    <tr>\n",
              "      <th>104</th>\n",
              "      <td>3</td>\n",
              "      <td>3</td>\n",
              "      <td>2</td>\n",
              "      <td>3</td>\n",
              "      <td>3</td>\n",
              "    </tr>\n",
              "    <tr>\n",
              "      <th>155</th>\n",
              "      <td>4</td>\n",
              "      <td>2</td>\n",
              "      <td>3</td>\n",
              "      <td>4</td>\n",
              "      <td>4</td>\n",
              "    </tr>\n",
              "    <tr>\n",
              "      <th>314</th>\n",
              "      <td>5</td>\n",
              "      <td>3</td>\n",
              "      <td>2</td>\n",
              "      <td>5</td>\n",
              "      <td>5</td>\n",
              "    </tr>\n",
              "  </tbody>\n",
              "</table>\n",
              "</div>"
            ],
            "text/plain": [
              "     rep_rate  new_tests  pos_rate  tests_per_case  new_vac\n",
              "39          1          1         1               1        1\n",
              "250         2          2         1               2        2\n",
              "104         3          3         2               3        3\n",
              "155         4          2         3               4        4\n",
              "314         5          3         2               5        5"
            ]
          },
          "execution_count": 20,
          "metadata": {},
          "output_type": "execute_result"
        }
      ]
    },
    {
      "cell_type": "code",
      "metadata": {
        "execution": {
          "iopub.execute_input": "2021-11-30T23:27:33.450853Z",
          "iopub.status.busy": "2021-11-30T23:27:33.450105Z",
          "iopub.status.idle": "2021-11-30T23:27:33.460280Z",
          "shell.execute_reply": "2021-11-30T23:27:33.460956Z",
          "shell.execute_reply.started": "2021-11-30T22:22:43.684337Z"
        },
        "papermill": {
          "duration": 0.052069,
          "end_time": "2021-11-30T23:27:33.461140",
          "exception": false,
          "start_time": "2021-11-30T23:27:33.409071",
          "status": "completed"
        },
        "tags": [],
        "id": "a41c3629",
        "outputId": "e0061e0d-69d2-4198-e493-733e5834fb92"
      },
      "source": [
        "X_test.head()"
      ],
      "id": "a41c3629",
      "execution_count": null,
      "outputs": [
        {
          "data": {
            "text/html": [
              "<div>\n",
              "<style scoped>\n",
              "    .dataframe tbody tr th:only-of-type {\n",
              "        vertical-align: middle;\n",
              "    }\n",
              "\n",
              "    .dataframe tbody tr th {\n",
              "        vertical-align: top;\n",
              "    }\n",
              "\n",
              "    .dataframe thead th {\n",
              "        text-align: right;\n",
              "    }\n",
              "</style>\n",
              "<table border=\"1\" class=\"dataframe\">\n",
              "  <thead>\n",
              "    <tr style=\"text-align: right;\">\n",
              "      <th></th>\n",
              "      <th>rep_rate</th>\n",
              "      <th>new_tests</th>\n",
              "      <th>pos_rate</th>\n",
              "      <th>tests_per_case</th>\n",
              "      <th>new_vac</th>\n",
              "    </tr>\n",
              "  </thead>\n",
              "  <tbody>\n",
              "    <tr>\n",
              "      <th>25</th>\n",
              "      <td>2</td>\n",
              "      <td>5</td>\n",
              "      <td>10</td>\n",
              "      <td>-1.0</td>\n",
              "      <td>3</td>\n",
              "    </tr>\n",
              "    <tr>\n",
              "      <th>317</th>\n",
              "      <td>5</td>\n",
              "      <td>1</td>\n",
              "      <td>2</td>\n",
              "      <td>136.0</td>\n",
              "      <td>1</td>\n",
              "    </tr>\n",
              "    <tr>\n",
              "      <th>73</th>\n",
              "      <td>1</td>\n",
              "      <td>1</td>\n",
              "      <td>2</td>\n",
              "      <td>49.0</td>\n",
              "      <td>6</td>\n",
              "    </tr>\n",
              "    <tr>\n",
              "      <th>193</th>\n",
              "      <td>3</td>\n",
              "      <td>3</td>\n",
              "      <td>4</td>\n",
              "      <td>-1.0</td>\n",
              "      <td>2</td>\n",
              "    </tr>\n",
              "    <tr>\n",
              "      <th>57</th>\n",
              "      <td>4</td>\n",
              "      <td>1</td>\n",
              "      <td>12</td>\n",
              "      <td>115.0</td>\n",
              "      <td>1</td>\n",
              "    </tr>\n",
              "  </tbody>\n",
              "</table>\n",
              "</div>"
            ],
            "text/plain": [
              "     rep_rate  new_tests  pos_rate  tests_per_case  new_vac\n",
              "25          2          5        10            -1.0        3\n",
              "317         5          1         2           136.0        1\n",
              "73          1          1         2            49.0        6\n",
              "193         3          3         4            -1.0        2\n",
              "57          4          1        12           115.0        1"
            ]
          },
          "execution_count": 21,
          "metadata": {},
          "output_type": "execute_result"
        }
      ]
    },
    {
      "cell_type": "code",
      "metadata": {
        "execution": {
          "iopub.execute_input": "2021-11-30T23:27:33.540906Z",
          "iopub.status.busy": "2021-11-30T23:27:33.540211Z",
          "iopub.status.idle": "2021-11-30T23:27:33.701574Z",
          "shell.execute_reply": "2021-11-30T23:27:33.700869Z",
          "shell.execute_reply.started": "2021-11-30T22:22:43.697957Z"
        },
        "papermill": {
          "duration": 0.202381,
          "end_time": "2021-11-30T23:27:33.701773",
          "exception": false,
          "start_time": "2021-11-30T23:27:33.499392",
          "status": "completed"
        },
        "tags": [],
        "id": "47d55a17"
      },
      "source": [
        "from sklearn.tree import DecisionTreeClassifier"
      ],
      "id": "47d55a17",
      "execution_count": null,
      "outputs": []
    },
    {
      "cell_type": "code",
      "metadata": {
        "execution": {
          "iopub.execute_input": "2021-11-30T23:27:33.788811Z",
          "iopub.status.busy": "2021-11-30T23:27:33.788070Z",
          "iopub.status.idle": "2021-11-30T23:27:33.798453Z",
          "shell.execute_reply": "2021-11-30T23:27:33.797840Z",
          "shell.execute_reply.started": "2021-11-30T22:22:43.702786Z"
        },
        "papermill": {
          "duration": 0.057936,
          "end_time": "2021-11-30T23:27:33.798609",
          "exception": false,
          "start_time": "2021-11-30T23:27:33.740673",
          "status": "completed"
        },
        "tags": [],
        "id": "59e71361",
        "outputId": "4c9ad919-2e38-4a73-e5fa-cbff27269a88"
      },
      "source": [
        "clf_gini = DecisionTreeClassifier(criterion='gini', max_depth=5, random_state=0)\n",
        "\n",
        "\n",
        "# fit the model\n",
        "clf_gini.fit(X_train, y_train)"
      ],
      "id": "59e71361",
      "execution_count": null,
      "outputs": [
        {
          "data": {
            "text/plain": [
              "DecisionTreeClassifier(max_depth=5, random_state=0)"
            ]
          },
          "execution_count": 23,
          "metadata": {},
          "output_type": "execute_result"
        }
      ]
    },
    {
      "cell_type": "code",
      "metadata": {
        "execution": {
          "iopub.execute_input": "2021-11-30T23:27:33.879120Z",
          "iopub.status.busy": "2021-11-30T23:27:33.878069Z",
          "iopub.status.idle": "2021-11-30T23:27:33.884151Z",
          "shell.execute_reply": "2021-11-30T23:27:33.884854Z",
          "shell.execute_reply.started": "2021-11-30T22:22:43.72007Z"
        },
        "papermill": {
          "duration": 0.048636,
          "end_time": "2021-11-30T23:27:33.885036",
          "exception": false,
          "start_time": "2021-11-30T23:27:33.836400",
          "status": "completed"
        },
        "tags": [],
        "id": "5a8a90f8"
      },
      "source": [
        "y_pred_gini = clf_gini.predict(X_test)"
      ],
      "id": "5a8a90f8",
      "execution_count": null,
      "outputs": []
    },
    {
      "cell_type": "code",
      "metadata": {
        "execution": {
          "iopub.execute_input": "2021-11-30T23:27:33.964580Z",
          "iopub.status.busy": "2021-11-30T23:27:33.963541Z",
          "iopub.status.idle": "2021-11-30T23:27:33.972228Z",
          "shell.execute_reply": "2021-11-30T23:27:33.971054Z",
          "shell.execute_reply.started": "2021-11-30T22:22:43.727677Z"
        },
        "papermill": {
          "duration": 0.049595,
          "end_time": "2021-11-30T23:27:33.972551",
          "exception": false,
          "start_time": "2021-11-30T23:27:33.922956",
          "status": "completed"
        },
        "tags": [],
        "id": "494aec17",
        "outputId": "978ef2a6-c44c-40b9-8b9b-967f361c6835"
      },
      "source": [
        "from sklearn.metrics import accuracy_score\n",
        "\n",
        "print('Model accuracy score with criterion gini index: {0:0.4f}'. format(accuracy_score(y_test, y_pred_gini)))"
      ],
      "id": "494aec17",
      "execution_count": null,
      "outputs": [
        {
          "name": "stdout",
          "output_type": "stream",
          "text": [
            "Model accuracy score with criterion gini index: 0.5909\n"
          ]
        }
      ]
    },
    {
      "cell_type": "code",
      "metadata": {
        "execution": {
          "iopub.execute_input": "2021-11-30T23:27:34.055148Z",
          "iopub.status.busy": "2021-11-30T23:27:34.054116Z",
          "iopub.status.idle": "2021-11-30T23:27:34.062424Z",
          "shell.execute_reply": "2021-11-30T23:27:34.063078Z",
          "shell.execute_reply.started": "2021-11-30T22:22:43.740052Z"
        },
        "papermill": {
          "duration": 0.050759,
          "end_time": "2021-11-30T23:27:34.063255",
          "exception": false,
          "start_time": "2021-11-30T23:27:34.012496",
          "status": "completed"
        },
        "tags": [],
        "id": "67310938",
        "outputId": "32e06833-46fa-4c1e-bc55-1f7aca23caf3"
      },
      "source": [
        "y_pred_train_gini = clf_gini.predict(X_train)\n",
        "\n",
        "y_pred_train_gini"
      ],
      "id": "67310938",
      "execution_count": null,
      "outputs": [
        {
          "data": {
            "text/plain": [
              "array(['4', '1', '1', '1', '1', '1', '1', '1', '2', '1', '2', '1', '2',\n",
              "       '1', '2', '1', '2', '2', '1', '1', '1', '1', '2', '1', '5', '4',\n",
              "       '1', '2', '1', '2', '1', '1', '2', '3', '1', '3', '1', '4', '1',\n",
              "       '1', '1', '3', '2', '4', '4', '3', '1', '2', '1', '1', '2', '1',\n",
              "       '1', '1', '1', '1', '1', '1', '5', '2', '1', '4', '2', '4', '3',\n",
              "       '2', '2', '5', '1', '1', '2', '1', '1', '1', '3', '4', '1', '2',\n",
              "       '1', '2', '1', '1', '1', '5', '2', '3', '1', '1', '1', '1', '1',\n",
              "       '3', '2', '3', '1', '1', '2', '1', '2', '1', '1', '2', '3', '2',\n",
              "       '2', '1', '2', '3', '2', '3', '2', '1', '1', '1', '1', '1', '1',\n",
              "       '1', '3', '4', '2', '1', '2', '1', '4', '2', '1', '1', '3', '2',\n",
              "       '4', '1', '2', '5', '2', '5', '4', '1', '4', '3', '4', '1', '1',\n",
              "       '1', '2', '3', '2', '3', '2', '2', '1', '4', '3', '1', '1', '3',\n",
              "       '1', '1', '1', '3', '1', '3', '3', '4', '1', '1', '3', '1', '1',\n",
              "       '2', '2', '3', '3', '2', '2', '1', '2', '3', '1', '3', '1', '4',\n",
              "       '4', '2', '1', '1', '2', '2', '2', '1', '2', '3', '1', '1', '3',\n",
              "       '1', '1', '3', '1', '1', '1', '2', '1', '3', '1', '1', '2', '1',\n",
              "       '1', '2', '1', '2', '2', '2', '2', '2', '2', '1', '3', '2', '5',\n",
              "       '2'], dtype=object)"
            ]
          },
          "execution_count": 26,
          "metadata": {},
          "output_type": "execute_result"
        }
      ]
    },
    {
      "cell_type": "code",
      "metadata": {
        "execution": {
          "iopub.execute_input": "2021-11-30T23:27:34.147436Z",
          "iopub.status.busy": "2021-11-30T23:27:34.146582Z",
          "iopub.status.idle": "2021-11-30T23:27:34.150019Z",
          "shell.execute_reply": "2021-11-30T23:27:34.150557Z",
          "shell.execute_reply.started": "2021-11-30T22:22:43.753212Z"
        },
        "papermill": {
          "duration": 0.048804,
          "end_time": "2021-11-30T23:27:34.150751",
          "exception": false,
          "start_time": "2021-11-30T23:27:34.101947",
          "status": "completed"
        },
        "tags": [],
        "id": "b6e821ae",
        "outputId": "668df7de-a8df-4d8c-97d0-a7eff6f5f459"
      },
      "source": [
        "print('Training-set accuracy score: {0:0.4f}'. format(accuracy_score(y_train, y_pred_train_gini)))"
      ],
      "id": "b6e821ae",
      "execution_count": null,
      "outputs": [
        {
          "name": "stdout",
          "output_type": "stream",
          "text": [
            "Training-set accuracy score: 0.7117\n"
          ]
        }
      ]
    },
    {
      "cell_type": "code",
      "metadata": {
        "execution": {
          "iopub.execute_input": "2021-11-30T23:27:34.232704Z",
          "iopub.status.busy": "2021-11-30T23:27:34.231657Z",
          "iopub.status.idle": "2021-11-30T23:27:34.242830Z",
          "shell.execute_reply": "2021-11-30T23:27:34.242227Z",
          "shell.execute_reply.started": "2021-11-30T22:22:43.761363Z"
        },
        "papermill": {
          "duration": 0.052908,
          "end_time": "2021-11-30T23:27:34.242982",
          "exception": false,
          "start_time": "2021-11-30T23:27:34.190074",
          "status": "completed"
        },
        "tags": [],
        "id": "3c2ac27d",
        "outputId": "6bac0032-e8f8-4ea1-f522-24a171a9772b"
      },
      "source": [
        "print('Training set score: {:.4f}'.format(clf_gini.score(X_train, y_train)))\n",
        "\n",
        "print('Test set score: {:.4f}'.format(clf_gini.score(X_test, y_test)))"
      ],
      "id": "3c2ac27d",
      "execution_count": null,
      "outputs": [
        {
          "name": "stdout",
          "output_type": "stream",
          "text": [
            "Training set score: 0.7117\n",
            "Test set score: 0.5909\n"
          ]
        }
      ]
    },
    {
      "cell_type": "code",
      "metadata": {
        "execution": {
          "iopub.execute_input": "2021-11-30T23:27:34.328448Z",
          "iopub.status.busy": "2021-11-30T23:27:34.327773Z",
          "iopub.status.idle": "2021-11-30T23:27:37.569024Z",
          "shell.execute_reply": "2021-11-30T23:27:37.569593Z",
          "shell.execute_reply.started": "2021-11-30T22:22:43.778229Z"
        },
        "papermill": {
          "duration": 3.286283,
          "end_time": "2021-11-30T23:27:37.569816",
          "exception": false,
          "start_time": "2021-11-30T23:27:34.283533",
          "status": "completed"
        },
        "tags": [],
        "id": "b4a73441",
        "outputId": "8910b498-a256-41a2-e07a-4094b14578b5"
      },
      "source": [
        "plt.figure(figsize=(24,16))\n",
        "\n",
        "from sklearn import tree\n",
        "\n",
        "tree.plot_tree(clf_gini.fit(X_train, y_train)) "
      ],
      "id": "b4a73441",
      "execution_count": null,
      "outputs": [
        {
          "data": {
            "text/plain": [
              "[Text(764.46, 797.28, 'X[1] <= 2.5\\ngini = 0.741\\nsamples = 222\\nvalue = [81, 65, 29, 21, 26]'),\n",
              " Text(435.24, 652.3199999999999, 'X[4] <= 5.5\\ngini = 0.736\\nsamples = 129\\nvalue = [18, 54, 25, 14, 18]'),\n",
              " Text(245.52, 507.35999999999996, 'X[4] <= 1.5\\ngini = 0.789\\nsamples = 100\\nvalue = [17, 26, 25, 14, 18]'),\n",
              " Text(133.92000000000002, 362.4, 'X[0] <= 2.0\\ngini = 0.403\\nsamples = 12\\nvalue = [0, 9, 2, 1, 0]'),\n",
              " Text(89.28, 217.43999999999994, 'X[3] <= 15.0\\ngini = 0.625\\nsamples = 4\\nvalue = [0, 1, 2, 1, 0]'),\n",
              " Text(44.64, 72.4799999999999, 'gini = 0.0\\nsamples = 1\\nvalue = [0, 0, 0, 1, 0]'),\n",
              " Text(133.92000000000002, 72.4799999999999, 'gini = 0.444\\nsamples = 3\\nvalue = [0, 1, 2, 0, 0]'),\n",
              " Text(178.56, 217.43999999999994, 'gini = 0.0\\nsamples = 8\\nvalue = [0, 8, 0, 0, 0]'),\n",
              " Text(357.12, 362.4, 'X[1] <= 1.5\\ngini = 0.793\\nsamples = 88\\nvalue = [17, 17, 23, 13, 18]'),\n",
              " Text(267.84000000000003, 217.43999999999994, 'X[2] <= 1.5\\ngini = 0.732\\nsamples = 37\\nvalue = [0, 6, 13, 9, 9]'),\n",
              " Text(223.2, 72.4799999999999, 'gini = 0.568\\nsamples = 9\\nvalue = [0, 0, 1, 5, 3]'),\n",
              " Text(312.48, 72.4799999999999, 'gini = 0.704\\nsamples = 28\\nvalue = [0, 6, 12, 4, 6]'),\n",
              " Text(446.4, 217.43999999999994, 'X[2] <= 5.5\\ngini = 0.767\\nsamples = 51\\nvalue = [17, 11, 10, 4, 9]'),\n",
              " Text(401.76, 72.4799999999999, 'gini = 0.64\\nsamples = 28\\nvalue = [15, 5, 4, 0, 4]'),\n",
              " Text(491.04, 72.4799999999999, 'gini = 0.779\\nsamples = 23\\nvalue = [2, 6, 6, 4, 5]'),\n",
              " Text(624.96, 507.35999999999996, 'X[4] <= 6.5\\ngini = 0.067\\nsamples = 29\\nvalue = [1, 28, 0, 0, 0]'),\n",
              " Text(580.32, 362.4, 'X[3] <= 70.5\\ngini = 0.245\\nsamples = 7\\nvalue = [1, 6, 0, 0, 0]'),\n",
              " Text(535.6800000000001, 217.43999999999994, 'gini = 0.0\\nsamples = 4\\nvalue = [0, 4, 0, 0, 0]'),\n",
              " Text(624.96, 217.43999999999994, 'X[3] <= 98.5\\ngini = 0.444\\nsamples = 3\\nvalue = [1, 2, 0, 0, 0]'),\n",
              " Text(580.32, 72.4799999999999, 'gini = 0.0\\nsamples = 1\\nvalue = [1, 0, 0, 0, 0]'),\n",
              " Text(669.6, 72.4799999999999, 'gini = 0.0\\nsamples = 2\\nvalue = [0, 2, 0, 0, 0]'),\n",
              " Text(669.6, 362.4, 'gini = 0.0\\nsamples = 22\\nvalue = [0, 22, 0, 0, 0]'),\n",
              " Text(1093.68, 652.3199999999999, 'X[1] <= 4.5\\ngini = 0.512\\nsamples = 93\\nvalue = [63, 11, 4, 7, 8]'),\n",
              " Text(937.44, 507.35999999999996, 'X[2] <= 13.5\\ngini = 0.343\\nsamples = 79\\nvalue = [63, 11, 3, 1, 1]'),\n",
              " Text(848.16, 362.4, 'X[3] <= 145.0\\ngini = 0.309\\nsamples = 77\\nvalue = [63, 11, 3, 0, 0]'),\n",
              " Text(803.52, 217.43999999999994, 'X[4] <= 6.0\\ngini = 0.294\\nsamples = 76\\nvalue = [63, 10, 3, 0, 0]'),\n",
              " Text(758.88, 72.4799999999999, 'gini = 0.278\\nsamples = 75\\nvalue = [63, 9, 3, 0, 0]'),\n",
              " Text(848.16, 72.4799999999999, 'gini = 0.0\\nsamples = 1\\nvalue = [0, 1, 0, 0, 0]'),\n",
              " Text(892.8, 217.43999999999994, 'gini = 0.0\\nsamples = 1\\nvalue = [0, 1, 0, 0, 0]'),\n",
              " Text(1026.72, 362.4, 'X[3] <= 62.5\\ngini = 0.5\\nsamples = 2\\nvalue = [0, 0, 0, 1, 1]'),\n",
              " Text(982.08, 217.43999999999994, 'gini = 0.0\\nsamples = 1\\nvalue = [0, 0, 0, 1, 0]'),\n",
              " Text(1071.3600000000001, 217.43999999999994, 'gini = 0.0\\nsamples = 1\\nvalue = [0, 0, 0, 0, 1]'),\n",
              " Text(1249.92, 507.35999999999996, 'X[4] <= 2.5\\ngini = 0.561\\nsamples = 14\\nvalue = [0, 0, 1, 6, 7]'),\n",
              " Text(1205.28, 362.4, 'X[2] <= 11.5\\ngini = 0.406\\nsamples = 8\\nvalue = [0, 0, 1, 6, 1]'),\n",
              " Text(1160.64, 217.43999999999994, 'X[2] <= 4.0\\ngini = 0.245\\nsamples = 7\\nvalue = [0, 0, 0, 6, 1]'),\n",
              " Text(1116.0, 72.4799999999999, 'gini = 0.5\\nsamples = 2\\nvalue = [0, 0, 0, 1, 1]'),\n",
              " Text(1205.28, 72.4799999999999, 'gini = 0.0\\nsamples = 5\\nvalue = [0, 0, 0, 5, 0]'),\n",
              " Text(1249.92, 217.43999999999994, 'gini = 0.0\\nsamples = 1\\nvalue = [0, 0, 1, 0, 0]'),\n",
              " Text(1294.56, 362.4, 'gini = 0.0\\nsamples = 6\\nvalue = [0, 0, 0, 0, 6]')]"
            ]
          },
          "execution_count": 29,
          "metadata": {},
          "output_type": "execute_result"
        },
        {
          "data": {
            "image/png": "[encoded data removed]",
            "text/plain": [
              "<Figure size 1728x1152 with 1 Axes>"
            ]
          },
          "metadata": {
            "needs_background": "light"
          },
          "output_type": "display_data"
        }
      ]
    },
    {
      "cell_type": "code",
      "metadata": {
        "execution": {
          "iopub.execute_input": "2021-11-30T23:27:37.662082Z",
          "iopub.status.busy": "2021-11-30T23:27:37.657217Z",
          "iopub.status.idle": "2021-11-30T23:27:37.667913Z",
          "shell.execute_reply": "2021-11-30T23:27:37.667274Z",
          "shell.execute_reply.started": "2021-11-30T22:22:46.201256Z"
        },
        "papermill": {
          "duration": 0.055675,
          "end_time": "2021-11-30T23:27:37.668075",
          "exception": false,
          "start_time": "2021-11-30T23:27:37.612400",
          "status": "completed"
        },
        "tags": [],
        "id": "0c7b4bea",
        "outputId": "c80e501d-3538-4ae0-ca31-b7676cddc4bc"
      },
      "source": [
        "clf_en = DecisionTreeClassifier(criterion='entropy', max_depth=5, random_state=0)\n",
        "\n",
        "\n",
        "# fit the model\n",
        "clf_en.fit(X_train, y_train)"
      ],
      "id": "0c7b4bea",
      "execution_count": null,
      "outputs": [
        {
          "data": {
            "text/plain": [
              "DecisionTreeClassifier(criterion='entropy', max_depth=5, random_state=0)"
            ]
          },
          "execution_count": 30,
          "metadata": {},
          "output_type": "execute_result"
        }
      ]
    },
    {
      "cell_type": "code",
      "metadata": {
        "execution": {
          "iopub.execute_input": "2021-11-30T23:27:37.818728Z",
          "iopub.status.busy": "2021-11-30T23:27:37.818025Z",
          "iopub.status.idle": "2021-11-30T23:27:37.823431Z",
          "shell.execute_reply": "2021-11-30T23:27:37.824038Z",
          "shell.execute_reply.started": "2021-11-30T22:22:46.214295Z"
        },
        "papermill": {
          "duration": 0.052831,
          "end_time": "2021-11-30T23:27:37.824219",
          "exception": false,
          "start_time": "2021-11-30T23:27:37.771388",
          "status": "completed"
        },
        "tags": [],
        "id": "5b552c4f"
      },
      "source": [
        "y_pred_en = clf_en.predict(X_test)"
      ],
      "id": "5b552c4f",
      "execution_count": null,
      "outputs": []
    },
    {
      "cell_type": "code",
      "metadata": {
        "execution": {
          "iopub.execute_input": "2021-11-30T23:27:37.918469Z",
          "iopub.status.busy": "2021-11-30T23:27:37.917589Z",
          "iopub.status.idle": "2021-11-30T23:27:37.921512Z",
          "shell.execute_reply": "2021-11-30T23:27:37.922365Z",
          "shell.execute_reply.started": "2021-11-30T22:22:46.222747Z"
        },
        "papermill": {
          "duration": 0.054365,
          "end_time": "2021-11-30T23:27:37.922641",
          "exception": false,
          "start_time": "2021-11-30T23:27:37.868276",
          "status": "completed"
        },
        "tags": [],
        "id": "173a5e88",
        "outputId": "76e6eb7e-40bc-4d2e-e155-ce3cd214ce8d"
      },
      "source": [
        "from sklearn.metrics import accuracy_score\n",
        "\n",
        "print('Model accuracy score with criterion entropy: {0:0.4f}'. format(accuracy_score(y_test, y_pred_en)))"
      ],
      "id": "173a5e88",
      "execution_count": null,
      "outputs": [
        {
          "name": "stdout",
          "output_type": "stream",
          "text": [
            "Model accuracy score with criterion entropy: 0.6455\n"
          ]
        }
      ]
    },
    {
      "cell_type": "code",
      "metadata": {
        "execution": {
          "iopub.execute_input": "2021-11-30T23:27:38.019226Z",
          "iopub.status.busy": "2021-11-30T23:27:38.018149Z",
          "iopub.status.idle": "2021-11-30T23:27:38.021864Z",
          "shell.execute_reply": "2021-11-30T23:27:38.022422Z",
          "shell.execute_reply.started": "2021-11-30T22:22:46.233138Z"
        },
        "papermill": {
          "duration": 0.05582,
          "end_time": "2021-11-30T23:27:38.022600",
          "exception": false,
          "start_time": "2021-11-30T23:27:37.966780",
          "status": "completed"
        },
        "tags": [],
        "id": "8b941882",
        "outputId": "e197a309-13fa-4fb2-bd63-b16b28c6c795"
      },
      "source": [
        "y_pred_train_en = clf_en.predict(X_train)\n",
        "\n",
        "y_pred_train_en"
      ],
      "id": "8b941882",
      "execution_count": null,
      "outputs": [
        {
          "data": {
            "text/plain": [
              "array(['3', '1', '1', '1', '1', '1', '1', '1', '1', '1', '2', '1', '2',\n",
              "       '1', '2', '1', '2', '2', '1', '1', '1', '1', '2', '1', '5', '4',\n",
              "       '1', '1', '1', '2', '1', '1', '2', '3', '1', '3', '1', '5', '1',\n",
              "       '1', '1', '5', '2', '4', '4', '5', '1', '2', '1', '1', '2', '1',\n",
              "       '1', '1', '1', '1', '1', '1', '5', '2', '1', '4', '2', '5', '3',\n",
              "       '2', '2', '5', '1', '1', '2', '1', '1', '1', '3', '4', '1', '1',\n",
              "       '1', '2', '1', '1', '1', '4', '2', '5', '1', '1', '1', '1', '1',\n",
              "       '3', '2', '2', '1', '1', '2', '1', '2', '1', '1', '2', '5', '2',\n",
              "       '2', '1', '2', '2', '2', '2', '2', '1', '1', '1', '1', '1', '1',\n",
              "       '1', '3', '4', '2', '1', '2', '1', '4', '2', '1', '1', '2', '2',\n",
              "       '4', '1', '2', '5', '2', '5', '4', '1', '4', '5', '5', '1', '1',\n",
              "       '1', '2', '2', '2', '5', '1', '2', '1', '4', '2', '1', '1', '3',\n",
              "       '1', '1', '1', '2', '1', '2', '2', '4', '1', '1', '3', '1', '1',\n",
              "       '2', '2', '5', '5', '2', '2', '1', '2', '5', '1', '5', '1', '5',\n",
              "       '4', '2', '1', '1', '2', '2', '2', '1', '2', '3', '1', '1', '2',\n",
              "       '1', '1', '5', '1', '1', '1', '2', '1', '5', '1', '1', '2', '1',\n",
              "       '1', '2', '1', '2', '2', '1', '2', '2', '2', '1', '2', '2', '5',\n",
              "       '2'], dtype=object)"
            ]
          },
          "execution_count": 33,
          "metadata": {},
          "output_type": "execute_result"
        }
      ]
    },
    {
      "cell_type": "code",
      "metadata": {
        "execution": {
          "iopub.execute_input": "2021-11-30T23:27:38.114243Z",
          "iopub.status.busy": "2021-11-30T23:27:38.113156Z",
          "iopub.status.idle": "2021-11-30T23:27:38.119900Z",
          "shell.execute_reply": "2021-11-30T23:27:38.120568Z",
          "shell.execute_reply.started": "2021-11-30T22:22:46.24812Z"
        },
        "papermill": {
          "duration": 0.054858,
          "end_time": "2021-11-30T23:27:38.120773",
          "exception": false,
          "start_time": "2021-11-30T23:27:38.065915",
          "status": "completed"
        },
        "tags": [],
        "id": "e311255a",
        "outputId": "0677e4c8-108a-4566-c9d5-98d0729ee7d8"
      },
      "source": [
        "print('Training-set accuracy score: {0:0.4f}'. format(accuracy_score(y_train, y_pred_train_en)))"
      ],
      "id": "e311255a",
      "execution_count": null,
      "outputs": [
        {
          "name": "stdout",
          "output_type": "stream",
          "text": [
            "Training-set accuracy score: 0.7117\n"
          ]
        }
      ]
    },
    {
      "cell_type": "code",
      "metadata": {
        "execution": {
          "iopub.execute_input": "2021-11-30T23:27:38.214357Z",
          "iopub.status.busy": "2021-11-30T23:27:38.213146Z",
          "iopub.status.idle": "2021-11-30T23:27:38.225373Z",
          "shell.execute_reply": "2021-11-30T23:27:38.224815Z",
          "shell.execute_reply.started": "2021-11-30T22:22:46.255837Z"
        },
        "papermill": {
          "duration": 0.060714,
          "end_time": "2021-11-30T23:27:38.225528",
          "exception": false,
          "start_time": "2021-11-30T23:27:38.164814",
          "status": "completed"
        },
        "tags": [],
        "id": "96db4f99",
        "outputId": "b27d848a-c61e-46c9-abd7-3b6794a0d903"
      },
      "source": [
        "print('Training set score: {:.4f}'.format(clf_en.score(X_train, y_train)))\n",
        "\n",
        "print('Test set score: {:.4f}'.format(clf_en.score(X_test, y_test)))"
      ],
      "id": "96db4f99",
      "execution_count": null,
      "outputs": [
        {
          "name": "stdout",
          "output_type": "stream",
          "text": [
            "Training set score: 0.7117\n",
            "Test set score: 0.6455\n"
          ]
        }
      ]
    },
    {
      "cell_type": "code",
      "metadata": {
        "execution": {
          "iopub.execute_input": "2021-11-30T23:27:38.318725Z",
          "iopub.status.busy": "2021-11-30T23:27:38.317614Z",
          "iopub.status.idle": "2021-11-30T23:27:41.242935Z",
          "shell.execute_reply": "2021-11-30T23:27:41.243517Z",
          "shell.execute_reply.started": "2021-11-30T22:24:02.540864Z"
        },
        "papermill": {
          "duration": 2.974254,
          "end_time": "2021-11-30T23:27:41.243732",
          "exception": false,
          "start_time": "2021-11-30T23:27:38.269478",
          "status": "completed"
        },
        "tags": [],
        "id": "d607375a",
        "outputId": "92cfbb80-1e27-4231-86e4-1364de8620fe"
      },
      "source": [
        "plt.figure(figsize=(24,16))\n",
        "\n",
        "from sklearn import tree\n",
        "\n",
        "tree.plot_tree(clf_en.fit(X_train, y_train)) "
      ],
      "id": "d607375a",
      "execution_count": null,
      "outputs": [
        {
          "data": {
            "text/plain": [
              "[Text(912.0413793103448, 797.28, 'X[4] <= 5.5\\nentropy = 2.117\\nsamples = 222\\nvalue = [81, 65, 29, 21, 26]'),\n",
              " Text(577.2413793103448, 652.3199999999999, 'X[1] <= 1.5\\nentropy = 2.131\\nsamples = 192\\nvalue = [80, 36, 29, 21, 26]'),\n",
              " Text(253.98620689655172, 507.35999999999996, 'X[2] <= 1.5\\nentropy = 1.972\\nsamples = 45\\nvalue = [0, 11, 15, 10, 9]'),\n",
              " Text(138.53793103448277, 362.4, 'X[3] <= 35.0\\nentropy = 1.435\\nsamples = 11\\nvalue = [0, 0, 2, 6, 3]'),\n",
              " Text(92.35862068965517, 217.43999999999994, 'X[0] <= 1.5\\nentropy = 1.459\\nsamples = 6\\nvalue = [0, 0, 2, 1, 3]'),\n",
              " Text(46.179310344827584, 72.4799999999999, 'entropy = 1.0\\nsamples = 2\\nvalue = [0, 0, 1, 1, 0]'),\n",
              " Text(138.53793103448277, 72.4799999999999, 'entropy = 0.811\\nsamples = 4\\nvalue = [0, 0, 1, 0, 3]'),\n",
              " Text(184.71724137931034, 217.43999999999994, 'entropy = 0.0\\nsamples = 5\\nvalue = [0, 0, 0, 5, 0]'),\n",
              " Text(369.4344827586207, 362.4, 'X[2] <= 5.5\\nentropy = 1.862\\nsamples = 34\\nvalue = [0, 11, 13, 4, 6]'),\n",
              " Text(277.07586206896553, 217.43999999999994, 'X[4] <= 1.5\\nentropy = 0.918\\nsamples = 15\\nvalue = [0, 10, 5, 0, 0]'),\n",
              " Text(230.8965517241379, 72.4799999999999, 'entropy = 0.0\\nsamples = 5\\nvalue = [0, 5, 0, 0, 0]'),\n",
              " Text(323.2551724137931, 72.4799999999999, 'entropy = 1.0\\nsamples = 10\\nvalue = [0, 5, 5, 0, 0]'),\n",
              " Text(461.7931034482758, 217.43999999999994, 'X[0] <= 2.0\\nentropy = 1.747\\nsamples = 19\\nvalue = [0, 1, 8, 4, 6]'),\n",
              " Text(415.61379310344824, 72.4799999999999, 'entropy = 0.863\\nsamples = 7\\nvalue = [0, 0, 5, 2, 0]'),\n",
              " Text(507.97241379310344, 72.4799999999999, 'entropy = 1.73\\nsamples = 12\\nvalue = [0, 1, 3, 2, 6]'),\n",
              " Text(900.4965517241379, 507.35999999999996, 'X[1] <= 4.5\\nentropy = 1.875\\nsamples = 147\\nvalue = [80, 25, 14, 11, 17]'),\n",
              " Text(738.8689655172413, 362.4, 'X[1] <= 2.5\\nentropy = 1.681\\nsamples = 133\\nvalue = [80, 25, 13, 5, 10]'),\n",
              " Text(646.5103448275862, 217.43999999999994, 'X[2] <= 5.5\\nentropy = 2.184\\nsamples = 55\\nvalue = [17, 15, 10, 4, 9]'),\n",
              " Text(600.3310344827586, 72.4799999999999, 'entropy = 1.777\\nsamples = 32\\nvalue = [15, 9, 4, 0, 4]'),\n",
              " Text(692.6896551724137, 72.4799999999999, 'entropy = 2.235\\nsamples = 23\\nvalue = [2, 6, 6, 4, 5]'),\n",
              " Text(831.2275862068965, 217.43999999999994, 'X[2] <= 13.5\\nentropy = 0.971\\nsamples = 78\\nvalue = [63, 10, 3, 1, 1]'),\n",
              " Text(785.048275862069, 72.4799999999999, 'entropy = 0.793\\nsamples = 76\\nvalue = [63, 10, 3, 0, 0]'),\n",
              " Text(877.4068965517241, 72.4799999999999, 'entropy = 1.0\\nsamples = 2\\nvalue = [0, 0, 0, 1, 1]'),\n",
              " Text(1062.1241379310345, 362.4, 'X[4] <= 2.5\\nentropy = 1.296\\nsamples = 14\\nvalue = [0, 0, 1, 6, 7]'),\n",
              " Text(1015.9448275862069, 217.43999999999994, 'X[2] <= 11.5\\nentropy = 1.061\\nsamples = 8\\nvalue = [0, 0, 1, 6, 1]'),\n",
              " Text(969.7655172413793, 72.4799999999999, 'entropy = 0.592\\nsamples = 7\\nvalue = [0, 0, 0, 6, 1]'),\n",
              " Text(1062.1241379310345, 72.4799999999999, 'entropy = 0.0\\nsamples = 1\\nvalue = [0, 0, 1, 0, 0]'),\n",
              " Text(1108.3034482758621, 217.43999999999994, 'entropy = 0.0\\nsamples = 6\\nvalue = [0, 0, 0, 0, 6]'),\n",
              " Text(1246.8413793103448, 652.3199999999999, 'X[4] <= 6.5\\nentropy = 0.211\\nsamples = 30\\nvalue = [1, 29, 0, 0, 0]'),\n",
              " Text(1200.6620689655172, 507.35999999999996, 'X[3] <= 70.5\\nentropy = 0.592\\nsamples = 7\\nvalue = [1, 6, 0, 0, 0]'),\n",
              " Text(1154.4827586206895, 362.4, 'entropy = 0.0\\nsamples = 4\\nvalue = [0, 4, 0, 0, 0]'),\n",
              " Text(1246.8413793103448, 362.4, 'X[3] <= 98.5\\nentropy = 0.918\\nsamples = 3\\nvalue = [1, 2, 0, 0, 0]'),\n",
              " Text(1200.6620689655172, 217.43999999999994, 'entropy = 0.0\\nsamples = 1\\nvalue = [1, 0, 0, 0, 0]'),\n",
              " Text(1293.0206896551724, 217.43999999999994, 'entropy = 0.0\\nsamples = 2\\nvalue = [0, 2, 0, 0, 0]'),\n",
              " Text(1293.0206896551724, 507.35999999999996, 'entropy = 0.0\\nsamples = 23\\nvalue = [0, 23, 0, 0, 0]')]"
            ]
          },
          "execution_count": 36,
          "metadata": {},
          "output_type": "execute_result"
        },
        {
          "data": {
            "image/png": "[encoded data removed]",
            "text/plain": [
              "<Figure size 1728x1152 with 1 Axes>"
            ]
          },
          "metadata": {
            "needs_background": "light"
          },
          "output_type": "display_data"
        }
      ]
    }
  ]
}